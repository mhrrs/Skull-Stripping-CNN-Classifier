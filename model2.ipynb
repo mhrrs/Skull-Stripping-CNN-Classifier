{
 "cells": [
  {
   "cell_type": "markdown",
   "id": "01506d77",
   "metadata": {},
   "source": [
    "## Model 2\n",
    "\n",
    "This model expects the files to be in a slightly different file structure detailed below:\n",
    "\n",
    " - Skull-Stripping-CNN-Repo\n",
    "\n",
    "    - torch_preProcessing2.ipynb\n",
    "    \n",
    "    - data\n",
    "        - files\n",
    "            - all of the .nii.gz files (do not unzip them)\n",
    "        - labels.csv\n",
    "        \n",
    "      \n",
    "The scripts in /processing_scripts were used to extract the new perfect scans into the proper file structure & generate the labels for them. \n",
    "\n",
    "Otherwise everything else should be pretty similar if not the same\n",
    " "
   ]
  },
  {
   "cell_type": "code",
   "execution_count": 2,
   "id": "92bbe965-f99c-4b7f-b4dd-828d5eaadc58",
   "metadata": {},
   "outputs": [],
   "source": [
    "import torch\n",
    "from torch.utils.data import TensorDataset, DataLoader\n",
    "import torch.nn as nn\n",
    "import torch.nn.functional as F\n",
    "from torch.nn.modules import Softmax\n",
    "from torch.nn.modules.activation import ReLU\n",
    "from torchsummary import summary\n",
    "\n",
    "import nibabel as nib\n",
    "import matplotlib.pyplot as plt\n",
    "import gzip\n",
    "import tensorflow as tf\n",
    "import os\n",
    "import shutil\n",
    "import numpy as np\n",
    "from scipy import ndimage\n",
    "from tensorflow import keras\n",
    "from tensorflow.keras import layers\n",
    "import gc"
   ]
  },
  {
   "cell_type": "code",
   "execution_count": null,
   "id": "6712dda6-8ab9-4cc9-8352-82331723ce4b",
   "metadata": {},
   "outputs": [],
   "source": [
    "nfilepath = './data/files/IXI369-Guys-0924-T1_bet_03.nii.gz'\n",
    "sfilepath = './data/files/IXI369-Guys-0924-T1_bet_8.nii.gz'\n",
    "\n",
    "\n",
    "def process_scan_file(filepath):\n",
    "    # Load the image data from the file\n",
    "    image = nib.load(filepath)\n",
    "\n",
    "    # Get the image data as a numpy array\n",
    "    data = image.get_fdata()\n",
    "\n",
    "    # Select the slice index you want to display or save (e.g., slice 20)\n",
    "    slice_index = 100\n",
    "    center = 90\n",
    "\n",
    "    # Display the image data for the selected slice\n",
    "    plt.imshow(data[:,center,:], cmap='gray')\n",
    "    plt.axis('off')\n",
    "    plt.show()\n",
    "\n",
    "    # Save the image for the selected slice as JPEG\n",
    "    # plt.imsave(f'slice_{center}.jpg', data[:,center,:], cmap='gray')\n",
    "\n",
    "    \n",
    "print(\"non-stripped\")\n",
    "process_scan_file(nfilepath)\n",
    "\n",
    "print(\"stripped\")\n",
    "process_scan_file(sfilepath)"
   ]
  },
  {
   "cell_type": "code",
   "execution_count": 3,
   "id": "db475cd0-41f5-43e7-961e-cf4cc5174321",
   "metadata": {},
   "outputs": [],
   "source": [
    "# def unzip_files(folderpath):\n",
    "    \n",
    "#     for file in os.listdir(folderpath):\n",
    "#         filepath = os.path.join(folderpath, file)\n",
    "    \n",
    "#         with gzip.open(filepath, 'rb') as f_in:\n",
    "#             outpath = os.path.splitext(filepath)[0]\n",
    "#             print(f\"outpath: {outpath} | filename: {file[:-3]}\")\n",
    "#             outputfolder = os.path.join(\"./image_data/BSE_BET_DATA/nifti_files\", file[:-3])\n",
    "#             with open(outputfolder, 'wb') as f_out:\n",
    "#                 f_out.write(f_in.read())\n",
    "#         print(file)\n",
    "    \n",
    "\n",
    "def read_nifti_file(filepath):\n",
    "    \"\"\"Read and load volume\"\"\"\n",
    "    # Read file\n",
    "    scan = nib.load(filepath)\n",
    "    # Get raw data\n",
    "    scan = scan.get_fdata()\n",
    "    return scan\n",
    "\n",
    "def normalize(volume):\n",
    "    \"\"\"Normalize the volume\"\"\"\n",
    "    min = -1000\n",
    "    max = 400\n",
    "    volume[volume < min] = min\n",
    "    volume[volume > max] = max\n",
    "    volume = (volume - min) / (max - min)\n",
    "    volume = volume.astype(\"float32\")\n",
    "    return volume\n",
    "\n",
    "\n",
    "def resize_volume(img):\n",
    "    \"\"\"Resize across z-axis\"\"\"\n",
    "    # Set the desired depth\n",
    "    desired_depth = 64\n",
    "    desired_width = 128\n",
    "    desired_height = 128\n",
    "    # Get current depth\n",
    "    current_depth = img.shape[-1]\n",
    "    current_width = img.shape[0]\n",
    "    current_height = img.shape[1]\n",
    "    # Compute depth factor\n",
    "    depth = current_depth / desired_depth\n",
    "    width = current_width / desired_width\n",
    "    height = current_height / desired_height\n",
    "    depth_factor = 1 / depth\n",
    "    width_factor = 1 / width\n",
    "    height_factor = 1 / height\n",
    "    # Rotate\n",
    "    img = ndimage.rotate(img, 90, reshape=False)\n",
    "    # Resize across z-axis\n",
    "    img = ndimage.zoom(img, (width_factor, height_factor, depth_factor), order=1)\n",
    "    return img\n",
    "\n",
    "\n",
    "def display_scan(data):\n",
    "    # Select the slice index you want to display or save (e.g., slice 20)\n",
    "    slice_index = 100\n",
    "    center = 32\n",
    "\n",
    "    # Display the image data for the selected slice\n",
    "    plt.imshow(data[:,:,center], cmap='gray')\n",
    "    plt.axis('off')\n",
    "    plt.show()\n",
    "\n",
    "    # Save the image for the selected slice as JPEG\n",
    "    plt.imsave(f'slice_{center}.jpg', data[:,center,:], cmap='gray')\n",
    "\n",
    "\n",
    "def process_scan(path):\n",
    "    \"\"\"Read and resize volume\"\"\"\n",
    "    # Read scan\n",
    "    volume = read_nifti_file(path)\n",
    "    # Normalize\n",
    "    volume = normalize(volume)\n",
    "    # Resize width, height and depth\n",
    "    volume = resize_volume(volume)\n",
    "    \n",
    "    return volume"
   ]
  },
  {
   "cell_type": "code",
   "execution_count": null,
   "id": "84143329-4bae-4b23-a072-6a7f20f73bb2",
   "metadata": {
    "scrolled": true
   },
   "outputs": [],
   "source": [
    "#folderpath = \"./data/files\"\n",
    "nifti_folder = \"./data/files\"\n",
    "\n",
    "# uncomment this if you haven't unzipped the folders\n",
    "#unzip_files(folderpath)\n",
    "\n",
    "for file in os.listdir(nifti_folder):\n",
    "    path = os.path.join(nifti_folder, file)\n",
    "    img = process_scan(path)\n",
    "    print(img.shape)\n",
    "    print(file)"
   ]
  },
  {
   "cell_type": "markdown",
   "id": "89583e1c-7f39-4cd3-90a7-07c43c4ba0db",
   "metadata": {},
   "source": [
    "# Break up the Nifti_files folder into three different folders: recognizable and perfect and other\n",
    "Recognizable will be known as non_strip, and other will be known as stripped"
   ]
  },
  {
   "cell_type": "code",
   "execution_count": null,
   "id": "4b1f5b78-af9d-431b-9f13-1b89a7f173c8",
   "metadata": {},
   "outputs": [],
   "source": [
    "\n",
    "nifti_folder = \"./data/files\"\n",
    "\n",
    "csv = np.loadtxt(\"./data/labels.csv\", delimiter=\",\", dtype=str)\n",
    "\n",
    "recognizable = []\n",
    "perfect = []\n",
    "data_loss = []\n",
    "\n",
    "for item in csv:\n",
    "    if item[1] == \"Yes\":\n",
    "        recognizable.append(item[0])\n",
    "    \n",
    "    elif item[1] == \"No\" and item[2] == \"No\":\n",
    "        perfect.append(item[0])\n",
    "        \n",
    "    elif item[1] == \"No\" and item[2] == \"Yes\":\n",
    "        data_loss.append(item[0])\n",
    "    else:\n",
    "        print(\"error item: \", item)\n",
    "\n",
    "print(len(recognizable), len(perfect), len(data_loss))        \n",
    "\n",
    "outputfolder = \"./image_data/recognizable_features\"\n",
    "if not os.path.exists(outputfolder):\n",
    "    os.makedirs(outputfolder)\n",
    "    \n",
    "nonfolder = \"./image_data/non_features\"\n",
    "if not os.path.exists(nonfolder):\n",
    "    os.makedirs(nonfolder)\n",
    "    \n",
    "perfectfolder = \"./image_data/perfect\"\n",
    "if not os.path.exists(perfectfolder):\n",
    "    os.makedirs(perfectfolder)\n",
    "\n",
    "for file in os.listdir(nifti_folder):\n",
    "    print(\"Processing File: \", file)\n",
    "    if file in recognizable:\n",
    "        print(\"sending to recognizable...\")\n",
    "        filepath = os.path.join(nifti_folder, file)\n",
    "        outputpath = os.path.join(outputfolder, file)\n",
    "        with open(filepath, 'rb') as f_in, open(outputpath, 'wb') as f_out:\n",
    "            shutil.copyfileobj(f_in, f_out)\n",
    "\n",
    "    \n",
    "    elif file in perfect:\n",
    "        print(\"sending to perfect...\")\n",
    "        filepath = os.path.join(nifti_folder, file)\n",
    "        outputpath = os.path.join(perfectfolder, file)\n",
    "        with open(filepath, 'rb') as f_in, open(outputpath, 'wb') as f_out:\n",
    "            shutil.copyfileobj(f_in, f_out)\n",
    "\n",
    "            \n",
    "    elif file in data_loss:\n",
    "        print(\"sending to data_loss...\")\n",
    "        filepath = os.path.join(nifti_folder, file)\n",
    "        nonpath = os.path.join(nonfolder, file)\n",
    "        with open(filepath, 'rb') as f_in, open(nonpath, 'wb') as f_out:\n",
    "            shutil.copyfileobj(f_in, f_out)\n",
    "\n",
    "    else:\n",
    "        print(\"error FILE: \", file)\n"
   ]
  },
  {
   "cell_type": "code",
   "execution_count": null,
   "id": "03d33432",
   "metadata": {},
   "outputs": [],
   "source": []
  },
  {
   "cell_type": "code",
   "execution_count": null,
   "id": "606011ec-17ff-4c78-be4b-03e5a44dd117",
   "metadata": {},
   "outputs": [],
   "source": [
    "non_stripped_folder = os.listdir(\"./image_data/recognizable_features\")\n",
    "stripped_folder = os.listdir(\"./image_data/non_features\")\n",
    "perfect_folder = os.listdir(\"./image_data/perfect\")\n",
    "\n",
    "non_strip = np.array([process_scan(os.path.join(\"./image_data/recognizable_features\",path)) for path in non_stripped_folder])\n",
    "print(\"Processed non_strip, moving to strip...\")\n",
    "stripped = np.array([process_scan(os.path.join(\"./image_data/non_features\",path)) for path in stripped_folder])\n",
    "print(\"Processed stripped moving to perfect...\")\n",
    "perfect = np.array([process_scan(os.path.join(\"./image_data/perfect\",path)) for path in perfect_folder])\n",
    "print(\"Done.\")"
   ]
  },
  {
   "cell_type": "code",
   "execution_count": null,
   "id": "738390ef",
   "metadata": {},
   "outputs": [],
   "source": [
    "# save the arrays for later use\n",
    "np.save(\"non_strip.npy\", non_strip)\n",
    "np.save(\"stripped.npy\", stripped)\n",
    "np.save(\"perfect.npy\", perfect)"
   ]
  },
  {
   "cell_type": "code",
   "execution_count": 4,
   "id": "4463db6b",
   "metadata": {},
   "outputs": [],
   "source": [
    "\n",
    "# run if you have already processed the numpy arrays\n",
    "non_strip = np.load(\"non_strip.npy\")\n",
    "stripped = np.load(\"stripped.npy\")\n",
    "perfect = np.load(\"perfect.npy\")\n"
   ]
  },
  {
   "cell_type": "code",
   "execution_count": 4,
   "id": "72b559f6",
   "metadata": {},
   "outputs": [
    {
     "name": "stdout",
     "output_type": "stream",
     "text": [
      "Stripped shape: (1332, 128, 128, 64)\n",
      "Non-Strip shape: (713, 128, 128, 64)\n",
      "Perfect shape: (140, 128, 128, 64)\n"
     ]
    }
   ],
   "source": [
    "print(\"Stripped shape:\",stripped.shape)\n",
    "print(\"Non-Strip shape:\",non_strip.shape)\n",
    "print(\"Perfect shape:\",perfect.shape)"
   ]
  },
  {
   "cell_type": "code",
   "execution_count": null,
   "id": "90838c7e-641b-4206-8674-4211d1d41385",
   "metadata": {},
   "outputs": [],
   "source": [
    "# # correctly parse labels\n",
    "# csv = np.loadtxt(\"./data/labels.csv\", delimiter=\",\", dtype=str)\n",
    "\n",
    "# recognizable = []\n",
    "# unrecog = []\n",
    "# for item in csv:\n",
    "#     if item[1] == \"Yes\" and item[2] == \"No\":\n",
    "#         recognizable.append(item[0])\n",
    "#     else:\n",
    "#         unrecog.append(item[0])\n"
   ]
  },
  {
   "cell_type": "code",
   "execution_count": 19,
   "id": "d42eec0d-1f11-4214-b579-ca6aa5641122",
   "metadata": {},
   "outputs": [
    {
     "name": "stdout",
     "output_type": "stream",
     "text": [
      "y train: (1529,) | x val: (656, 128, 128, 64)\n"
     ]
    }
   ],
   "source": [
    "\n",
    "# shuffle the order of the arrays on the 1st dimension to produce different\n",
    "# test and train data for different runs\n",
    "np.random.shuffle(non_strip)\n",
    "np.random.shuffle(stripped)\n",
    "np.random.shuffle(perfect)\n",
    "\n",
    "# 1 == non_stripped and 0 == stripped and 2 == perfect\n",
    "non_strip_labels = np.array([1 for _ in range(len(non_strip))])\n",
    "strip_labels = np.array([0 for _ in range(len(stripped))])\n",
    "perfect_labels = np.array([2 for _ in range(len(perfect))])\n",
    "\n",
    "# split the training data into 70-30 ratio for training and validation\n",
    "# ratios were just calculated by hand (size*0.7)\n",
    "x_train = np.concatenate((stripped[:932], non_strip[:499], perfect[:98]),axis=0)\n",
    "y_train = np.concatenate((strip_labels[:932], non_strip_labels[:499], perfect_labels[:98]),axis=0)\n",
    "x_val = np.concatenate((stripped[932:], non_strip[499:], perfect[98:]),axis=0)\n",
    "y_val = np.concatenate((strip_labels[932:], non_strip_labels[499:], perfect_labels[98:]),axis=0)\n",
    "\n",
    "print(f\"y train: {y_train.shape} | x val: {x_val.shape}\")"
   ]
  },
  {
   "cell_type": "code",
   "execution_count": 20,
   "id": "e3daf9fa-fecf-431f-95a6-5739fc0aff88",
   "metadata": {},
   "outputs": [
    {
     "name": "stdout",
     "output_type": "stream",
     "text": [
      "torch.Size([1529, 128, 128, 64])\n",
      "torch.Size([1529, 128, 128, 64])\n",
      "torch.Size([1529])\n"
     ]
    }
   ],
   "source": [
    "batch_size = 4\n",
    "\n",
    "# turn x_train and y_train into a dataloader\n",
    "x_train = torch.tensor(x_train, dtype=torch.float32)\n",
    "print(x_train.shape)\n",
    "#x_train = np.transpose(x_train, (0,3,1,2)) \n",
    "print(x_train.shape)\n",
    "y_train = torch.tensor(y_train, dtype=torch.long) # shape is (140)\n",
    "print(y_train.shape)\n",
    "train_ds = TensorDataset(x_train, y_train)\n",
    "train_dl = DataLoader(train_ds, batch_size=batch_size, shuffle=True) #creates shape: (2, 64, 128, 128)\n",
    "\n",
    "\n",
    "# turn x_val and y_val into a dataloader\n",
    "x_val = torch.tensor(x_val, dtype=torch.float32)\n",
    "#x_val = np.transpose(x_val, (0,3,1,2))\n",
    "y_val = torch.tensor(y_val, dtype=torch.long) # shape is 60\n",
    "val_ds = TensorDataset(x_val, y_val)\n",
    "val_dl = DataLoader(val_ds, batch_size=batch_size, shuffle=True)"
   ]
  },
  {
   "cell_type": "markdown",
   "id": "b94743d0-81e4-4d8a-9f6d-ccfb7d6d4ac4",
   "metadata": {},
   "source": [
    "# 3D PyTorch Model"
   ]
  },
  {
   "cell_type": "code",
   "execution_count": 21,
   "id": "05aaf34b-67f2-464b-9fd6-bab27db2182e",
   "metadata": {},
   "outputs": [],
   "source": [
    "\n",
    "device = torch.device('cuda' if torch.cuda.is_available() else 'cpu')\n",
    "\n",
    "class neuro_model(nn.Module):\n",
    "    def __init__(self):\n",
    "        super(neuro_model, self).__init__()\n",
    "        \n",
    "        # Define the convolutional layers\n",
    "        self.conv1 = nn.Conv3d(1, 16, kernel_size=(3, 3, 3), padding=1)\n",
    "        torch.nn.init.xavier_uniform_(self.conv1.weight)\n",
    "        self.conv2 = nn.Conv3d(16, 32, kernel_size=(3, 3, 3), padding=1)\n",
    "        torch.nn.init.xavier_uniform_(self.conv2.weight)\n",
    "        self.conv3 = nn.Conv3d(32, 64, kernel_size=(3, 3, 3), padding=1)\n",
    "        torch.nn.init.xavier_uniform_(self.conv3.weight)\n",
    "        \n",
    "        # Define the max pooling layers\n",
    "        self.pool = nn.MaxPool3d((2, 2, 2))\n",
    "        \n",
    "        # Define dropout layer\n",
    "        self.dropout = nn.Dropout(p=0.5)\n",
    "        \n",
    "        # Define the fully connected layers\n",
    "        self.fc1 = nn.Linear(2**17, 128)\n",
    "        torch.nn.init.xavier_uniform_(self.fc1.weight)\n",
    "        self.fc2 = nn.Linear(128, 3)\n",
    "        torch.nn.init.xavier_uniform_(self.fc2.weight)\n",
    "        \n",
    "        # Define the activation function\n",
    "        self.relu = nn.ReLU()\n",
    "        \n",
    "    def forward(self, x):\n",
    "        # Apply the convolutional layers and activation function\n",
    "        x = x.unsqueeze(1) # unsqueeze to add channels 1\n",
    "        #print(\"input after unsqueeze:\", x.shape)\n",
    "        x = self.conv1(x)\n",
    "        \n",
    "        x = self.relu(x)\n",
    "        x = self.pool(x)\n",
    "        #print(\"shape after first conv layer\",x.shape)\n",
    "        x = self.relu(self.conv2(x))\n",
    "        x = self.pool(x)\n",
    "        \n",
    "        x = self.dropout(x)\n",
    "        \n",
    "        x = self.relu(self.conv3(x))\n",
    "        x = self.pool(x)\n",
    "        #print(\"shape after all conv layers\",x.shape)\n",
    "        # Reshape the tensor for the fully connected layers\n",
    "        x = x.view(x.size(0), -1)\n",
    "        #print(\"shape after view\", x.shape)\n",
    "        # Apply the fully connected layers and activation function\n",
    "        x = self.relu(self.fc1(x))\n",
    "        x = self.fc2(x)\n",
    "        \n",
    "        \n",
    "        #print(x.shape)\n",
    "        return x\n",
    "    "
   ]
  },
  {
   "cell_type": "code",
   "execution_count": null,
   "id": "a1fb18eb",
   "metadata": {},
   "outputs": [],
   "source": [
    "from transformers import get_linear_schedule_with_warmup\n",
    "import time\n",
    "\n",
    "n_epochs = 5\n",
    "\n",
    "def amp_fit(model):\n",
    "    optim = torch.optim.Adam(model.parameters(), lr=0.001)\n",
    "    scaler = torch.cuda.amp.GradScaler()\n",
    "\n",
    "    # linear learning rate decay setup\n",
    "    n_t_steps = len(train_dl) * n_epochs\n",
    "    n_w_steps = .1 * n_t_steps\n",
    "    scheduler = get_linear_schedule_with_warmup(optim, n_w_steps, n_t_steps)\n",
    "\n",
    "    #batch accumulation parameter\n",
    "    accum_iter = 4\n",
    "\n",
    "    # other variables\n",
    "    total_loss = 0\n",
    "    total_time = 0.0\n",
    "    \n",
    "    for epoch in range(n_epochs):\n",
    "        start_time = time.perf_counter()\n",
    "        \n",
    "        for step, (inputs, labels) in enumerate(train_dl):\n",
    "            inputs = inputs.to(device)\n",
    "            labels = labels.to(device)\n",
    "\n",
    "            # amp scaler\n",
    "            with torch.cuda.amp.autocast():\n",
    "                outputs = model(inputs)\n",
    "                loss = outputs[0]\n",
    "\n",
    "            scaler.scale(loss).backward()\n",
    "            total_loss += loss.item()\n",
    "\n",
    "            # gradient accumulation that encompasses the functions of the amp scaler\n",
    "            if((step+1)%accum_iter == 0) or (step+1 == len(train_dl)):\n",
    "                scaler.step(optim)\n",
    "                scaler.update()\n",
    "                optim.zero_grad()\n",
    "                scheduler.step()\n",
    "            \n",
    "            # calculates the amount of time it takes to get through 10% of train_dl\n",
    "            if step % (len(train_dl)*.1) == 0:\n",
    "                epoch_time = time.perf_counter()\n",
    "                print(f\"Epoch: {epoch+1} | step: {step}/{len(train_dl)} | loss: {total_loss/(step+1):.4f} | time: {(epoch_time-start_time)/60:.1f} (minutes)\")\n",
    "            \n",
    "        total_time += (epoch_time-start_time)\n",
    "\n",
    "    print(f\"Total time: {total_time/360} (hours)\")"
   ]
  },
  {
   "cell_type": "code",
   "execution_count": 53,
   "id": "9bf987d5-ac27-4c26-903d-28ed20d0c47e",
   "metadata": {},
   "outputs": [],
   "source": [
    "n_epochs = 25\n",
    "\n",
    "def fit(model):\n",
    "    \n",
    "    loss_arr = []\n",
    "    \n",
    "    criterion = nn.CrossEntropyLoss()\n",
    "    optim = torch.optim.Adam(model.parameters(), lr=0.001)\n",
    "    \n",
    "    for epoch in range(n_epochs):\n",
    "        \n",
    "        for step, (inputs, labels) in enumerate(train_dl):\n",
    "            inputs = inputs.to(device)\n",
    "            labels = labels.to(device)\n",
    "            output = model(inputs)\n",
    "            #print(output)\n",
    "            #print(labels)\n",
    "            loss = criterion(output, labels)\n",
    "            \n",
    "            \n",
    "            \n",
    "            optim.zero_grad()\n",
    "            loss.backward()\n",
    "            optim.step()\n",
    "            \n",
    "        loss_arr.append(loss.item())    \n",
    "        print(f\"epoch: {epoch+1} | loss: {loss.item():4f}\")\n",
    "    \n",
    "    return loss_arr\n",
    "        "
   ]
  },
  {
   "cell_type": "code",
   "execution_count": 54,
   "id": "2af6edbc-5cb3-4661-9c9e-a9702e0cc500",
   "metadata": {
    "scrolled": false
   },
   "outputs": [
    {
     "data": {
      "text/plain": [
       "neuro_model(\n",
       "  (conv1): Conv3d(1, 16, kernel_size=(3, 3, 3), stride=(1, 1, 1), padding=(1, 1, 1))\n",
       "  (conv2): Conv3d(16, 32, kernel_size=(3, 3, 3), stride=(1, 1, 1), padding=(1, 1, 1))\n",
       "  (conv3): Conv3d(32, 64, kernel_size=(3, 3, 3), stride=(1, 1, 1), padding=(1, 1, 1))\n",
       "  (pool): MaxPool3d(kernel_size=(2, 2, 2), stride=(2, 2, 2), padding=0, dilation=1, ceil_mode=False)\n",
       "  (dropout): Dropout(p=0.5, inplace=False)\n",
       "  (fc1): Linear(in_features=131072, out_features=128, bias=True)\n",
       "  (fc2): Linear(in_features=128, out_features=3, bias=True)\n",
       "  (relu): ReLU()\n",
       ")"
      ]
     },
     "execution_count": 54,
     "metadata": {},
     "output_type": "execute_result"
    }
   ],
   "source": [
    "torch.cuda.empty_cache()\n",
    "gc.collect()\n",
    "model = neuro_model()\n",
    "model.to(device)\n"
   ]
  },
  {
   "cell_type": "code",
   "execution_count": 55,
   "id": "3750bb5f",
   "metadata": {},
   "outputs": [
    {
     "name": "stdout",
     "output_type": "stream",
     "text": [
      "epoch: 1 | loss: 0.005439\n",
      "epoch: 2 | loss: 0.017541\n",
      "epoch: 3 | loss: 0.000137\n",
      "epoch: 4 | loss: 0.000149\n",
      "epoch: 5 | loss: 0.000461\n",
      "epoch: 6 | loss: 4.056888\n",
      "epoch: 7 | loss: 0.004548\n",
      "epoch: 8 | loss: 0.003874\n",
      "epoch: 9 | loss: 0.924718\n",
      "epoch: 10 | loss: 0.002280\n",
      "epoch: 11 | loss: 0.000148\n",
      "epoch: 12 | loss: 0.000795\n",
      "epoch: 13 | loss: 0.001706\n",
      "epoch: 14 | loss: 0.002361\n",
      "epoch: 15 | loss: 0.000178\n",
      "epoch: 16 | loss: 0.021618\n",
      "epoch: 17 | loss: 0.001359\n",
      "epoch: 18 | loss: 0.000410\n",
      "epoch: 19 | loss: 0.000003\n",
      "epoch: 20 | loss: 0.002944\n",
      "epoch: 21 | loss: 0.003172\n",
      "epoch: 22 | loss: 0.000000\n",
      "epoch: 23 | loss: 0.000001\n",
      "epoch: 24 | loss: 0.000000\n",
      "epoch: 25 | loss: 0.000000\n"
     ]
    }
   ],
   "source": [
    "larr = fit(model)"
   ]
  },
  {
   "cell_type": "code",
   "execution_count": 48,
   "id": "ad7b413b",
   "metadata": {},
   "outputs": [
    {
     "ename": "RuntimeError",
     "evalue": "Parent directory ./model does not exist.",
     "output_type": "error",
     "traceback": [
      "\u001b[1;31m---------------------------------------------------------------------------\u001b[0m",
      "\u001b[1;31mRuntimeError\u001b[0m                              Traceback (most recent call last)",
      "Cell \u001b[1;32mIn[48], line 1\u001b[0m\n\u001b[1;32m----> 1\u001b[0m \u001b[43mtorch\u001b[49m\u001b[38;5;241;43m.\u001b[39;49m\u001b[43msave\u001b[49m\u001b[43m(\u001b[49m\u001b[43mmodel\u001b[49m\u001b[38;5;241;43m.\u001b[39;49m\u001b[43mstate_dict\u001b[49m\u001b[43m(\u001b[49m\u001b[43m)\u001b[49m\u001b[43m,\u001b[49m\u001b[43m \u001b[49m\u001b[38;5;124;43m'\u001b[39;49m\u001b[38;5;124;43m./model/model.pth\u001b[39;49m\u001b[38;5;124;43m'\u001b[39;49m\u001b[43m)\u001b[49m\n",
      "File \u001b[1;32m~\\miniconda3\\envs\\ml\\lib\\site-packages\\torch\\serialization.py:422\u001b[0m, in \u001b[0;36msave\u001b[1;34m(obj, f, pickle_module, pickle_protocol, _use_new_zipfile_serialization)\u001b[0m\n\u001b[0;32m    419\u001b[0m _check_dill_version(pickle_module)\n\u001b[0;32m    421\u001b[0m \u001b[38;5;28;01mif\u001b[39;00m _use_new_zipfile_serialization:\n\u001b[1;32m--> 422\u001b[0m     \u001b[38;5;28;01mwith\u001b[39;00m \u001b[43m_open_zipfile_writer\u001b[49m\u001b[43m(\u001b[49m\u001b[43mf\u001b[49m\u001b[43m)\u001b[49m \u001b[38;5;28;01mas\u001b[39;00m opened_zipfile:\n\u001b[0;32m    423\u001b[0m         _save(obj, opened_zipfile, pickle_module, pickle_protocol)\n\u001b[0;32m    424\u001b[0m         \u001b[38;5;28;01mreturn\u001b[39;00m\n",
      "File \u001b[1;32m~\\miniconda3\\envs\\ml\\lib\\site-packages\\torch\\serialization.py:309\u001b[0m, in \u001b[0;36m_open_zipfile_writer\u001b[1;34m(name_or_buffer)\u001b[0m\n\u001b[0;32m    307\u001b[0m \u001b[38;5;28;01melse\u001b[39;00m:\n\u001b[0;32m    308\u001b[0m     container \u001b[38;5;241m=\u001b[39m _open_zipfile_writer_buffer\n\u001b[1;32m--> 309\u001b[0m \u001b[38;5;28;01mreturn\u001b[39;00m \u001b[43mcontainer\u001b[49m\u001b[43m(\u001b[49m\u001b[43mname_or_buffer\u001b[49m\u001b[43m)\u001b[49m\n",
      "File \u001b[1;32m~\\miniconda3\\envs\\ml\\lib\\site-packages\\torch\\serialization.py:287\u001b[0m, in \u001b[0;36m_open_zipfile_writer_file.__init__\u001b[1;34m(self, name)\u001b[0m\n\u001b[0;32m    286\u001b[0m \u001b[38;5;28;01mdef\u001b[39;00m \u001b[38;5;21m__init__\u001b[39m(\u001b[38;5;28mself\u001b[39m, name) \u001b[38;5;241m-\u001b[39m\u001b[38;5;241m>\u001b[39m \u001b[38;5;28;01mNone\u001b[39;00m:\n\u001b[1;32m--> 287\u001b[0m     \u001b[38;5;28msuper\u001b[39m(_open_zipfile_writer_file, \u001b[38;5;28mself\u001b[39m)\u001b[38;5;241m.\u001b[39m\u001b[38;5;21m__init__\u001b[39m(\u001b[43mtorch\u001b[49m\u001b[38;5;241;43m.\u001b[39;49m\u001b[43m_C\u001b[49m\u001b[38;5;241;43m.\u001b[39;49m\u001b[43mPyTorchFileWriter\u001b[49m\u001b[43m(\u001b[49m\u001b[38;5;28;43mstr\u001b[39;49m\u001b[43m(\u001b[49m\u001b[43mname\u001b[49m\u001b[43m)\u001b[49m\u001b[43m)\u001b[49m)\n",
      "\u001b[1;31mRuntimeError\u001b[0m: Parent directory ./model does not exist."
     ]
    }
   ],
   "source": [
    "torch.save(model.state_dict(), './model/model.pth')"
   ]
  },
  {
   "cell_type": "code",
   "execution_count": 49,
   "id": "e4fefb71-1c66-4ce9-b75f-70f635505ad5",
   "metadata": {
    "scrolled": true
   },
   "outputs": [
    {
     "name": "stdout",
     "output_type": "stream",
     "text": [
      "Accuracy: 98%\n"
     ]
    }
   ],
   "source": [
    "    correct = 0\n",
    "    total = 0\n",
    "\n",
    "    with torch.no_grad():\n",
    "        for data in val_dl:\n",
    "            inp, val_outp = data\n",
    "            inp, val_outp = inp.cuda(), val_outp.cuda()\n",
    "            out = model(inp)\n",
    "            # shape (batch, 2)\n",
    "\n",
    "            _, pred = torch.max(out, 1)\n",
    "            \n",
    "#             print(\"correct:\", val_outp)\n",
    "#             print(\"pred:\", pred)\n",
    "            \n",
    "            total += val_outp.size(0)\n",
    "            correct += (pred == val_outp).sum().item()\n",
    "\n",
    "    print(f'Accuracy: {100*correct//total}%')"
   ]
  },
  {
   "cell_type": "code",
   "execution_count": 50,
   "id": "81759dca-a3b9-4616-9cd0-0db357400a7e",
   "metadata": {},
   "outputs": [
    {
     "name": "stdout",
     "output_type": "stream",
     "text": [
      "Accuracy: 99%\n"
     ]
    }
   ],
   "source": [
    "    \n",
    "    correct = 0\n",
    "    total = 0\n",
    "\n",
    "    with torch.no_grad():\n",
    "        for data in train_dl:\n",
    "            inp, val_outp = data\n",
    "            inp, val_outp = inp.cuda(), val_outp.cuda()\n",
    "            out = model(inp)\n",
    "            # shape (batch, 2)\n",
    "\n",
    "            _, pred = torch.max(out, 1)\n",
    "\n",
    "            total += val_outp.size(0)\n",
    "            correct += (pred == val_outp).sum().item()\n",
    "\n",
    "    print(f'Accuracy: {100*correct//total}%')"
   ]
  },
  {
   "cell_type": "code",
   "execution_count": 56,
   "id": "cfdb34e0",
   "metadata": {},
   "outputs": [
    {
     "data": {
      "image/png": "[encoded data removed]",
      "text/plain": [
       "<Figure size 640x480 with 1 Axes>"
      ]
     },
     "metadata": {},
     "output_type": "display_data"
    }
   ],
   "source": [
    "plt.figure()\n",
    "yax = [1, 2, 3, 4, 5, 6, 7, 8, 9, 10, 11, 12, 13, 14, 15, 16, 17, 18, 19, 20]\n",
    "plt.plot(larr)\n",
    "plt.xlabel(\"Epochs\")\n",
    "plt.ylabel(\"Loss\")\n",
    "plt.title(\"Loss Over Epochs\")\n",
    "\n",
    "plt.show()\n",
    "#print(larr)"
   ]
  },
  {
   "cell_type": "code",
   "execution_count": null,
   "id": "e5ab1431",
   "metadata": {},
   "outputs": [],
   "source": []
  }
 ],
 "metadata": {
  "kernelspec": {
   "display_name": "Python 3 (ipykernel)",
   "language": "python",
   "name": "python3"
  },
  "language_info": {
   "codemirror_mode": {
    "name": "ipython",
    "version": 3
   },
   "file_extension": ".py",
   "mimetype": "text/x-python",
   "name": "python",
   "nbconvert_exporter": "python",
   "pygments_lexer": "ipython3",
   "version": "3.10.10"
  }
 },
 "nbformat": 4,
 "nbformat_minor": 5
}
